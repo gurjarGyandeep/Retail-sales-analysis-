{
 "cells": [
  {
   "cell_type": "markdown",
   "id": "3f8d2e36",
   "metadata": {},
   "source": [
    "<h3><span style=\"color:Blue\">\n",
    "Online Retail Dataset\n",
    "</span></h3> "
   ]
  },
  {
   "cell_type": "markdown",
   "id": "a2af41b5",
   "metadata": {},
   "source": [
    "<h3><span style=\"color:Green\">\n",
    "Overview\n",
    "</span></h3> "
   ]
  },
  {
   "cell_type": "markdown",
   "id": "d3e80580",
   "metadata": {},
   "source": [
    "The Online Retail dataset provides insights into the sales activities of an online store spanning from December 1, 2009, to December 9, 2011. This dataset encompasses a wide range of souvenir products, primarily targeting corporate customers."
   ]
  },
  {
   "cell_type": "markdown",
   "id": "e8551e97",
   "metadata": {},
   "source": [
    "<h3><span style=\"color:Green\">\n",
    "Objective\n",
    "</span></h3> "
   ]
  },
  {
   "cell_type": "markdown",
   "id": "f26d6f73",
   "metadata": {},
   "source": [
    "<h4>1.How does our monthly revenue trend look?<br><br>\n",
    "    2.Which products contribute the most to our revenue?<br><br>\n",
    "    3.What are the top-selling products in each country based on revenue?<br><br>\n",
    "    4.How do our sales vary across different countries?<br><br>\n",
    "    5.What is the monthly customer retention rate?<br><br>\n",
    "    6.Customer segmentation( RFM analysis):RFM analysis is a customer segmentation technique that evaluates customer behavior based on three key factors:\n",
    "\n",
    "Recency (how recently a customer made a purchase)\n",
    "Frequency (how often a customer makes purchases)\n",
    "Monetary Value (the total amount a customer has spent).<br><br>"
   ]
  },
  {
   "cell_type": "markdown",
   "id": "3071757e",
   "metadata": {},
   "source": [
    "### Variables Description\n",
    "<h4>This section provides a comprehensive overview of the variables in the Online Retail - II dataset:<br><br>\n",
    "    a.InvoiceNo: A unique identifier for each transaction. Transactions prefixed with \"C\" indicate refunds.<br><br>\n",
    "    b.StockCode: A distinct code assigned to each inventory item.<br><br>\n",
    "    c.Description: The name of the item purchased.<br><br>\n",
    "    d.Quantity: The number of items in the transaction.<br><br>\n",
    "    e.InvoiceDate: The date and time when the transaction took place.<br><br>\n",
    "    f.Price: The price per item in Sterling.<br><br>\n",
    "    g.CustomerID: A unique identifier for each customer.<br><br>\n",
    "    h.Country: The customers country of residence.<br><br>\n",
    "    \n",
    "   "
   ]
  },
  {
   "cell_type": "code",
   "execution_count": 1,
   "id": "13528a73",
   "metadata": {},
   "outputs": [],
   "source": [
    "import pandas as pd\n",
    "import matplotlib.pyplot as plt\n",
    "import seaborn as sns"
   ]
  },
  {
   "cell_type": "code",
   "execution_count": 2,
   "id": "f701bfc5",
   "metadata": {},
   "outputs": [],
   "source": [
    "# Read the datasets\n",
    "C_items = pd.read_excel(\"customer_transactions_sample (1).xlsx\", sheet_name= \"Year 2009-2010\")"
   ]
  },
  {
   "cell_type": "code",
   "execution_count": 3,
   "id": "fccdea5c",
   "metadata": {},
   "outputs": [],
   "source": [
    "# Read the datasets\n",
    "C_items1 = pd.read_excel(\"customer_transactions_sample (1).xlsx\", sheet_name= \"Year 2010-2011\")"
   ]
  },
  {
   "cell_type": "code",
   "execution_count": 4,
   "id": "9fbe3dde",
   "metadata": {},
   "outputs": [
    {
     "data": {
      "text/plain": [
       "(525461, 8)"
      ]
     },
     "execution_count": 4,
     "metadata": {},
     "output_type": "execute_result"
    }
   ],
   "source": [
    "C_items.shape"
   ]
  },
  {
   "cell_type": "code",
   "execution_count": 5,
   "id": "be0e2e0d",
   "metadata": {},
   "outputs": [
    {
     "data": {
      "text/plain": [
       "(541910, 8)"
      ]
     },
     "execution_count": 5,
     "metadata": {},
     "output_type": "execute_result"
    }
   ],
   "source": [
    "C_items1.shape"
   ]
  },
  {
   "cell_type": "code",
   "execution_count": 6,
   "id": "209ada05",
   "metadata": {},
   "outputs": [
    {
     "name": "stdout",
     "output_type": "stream",
     "text": [
      "<class 'pandas.core.frame.DataFrame'>\n",
      "RangeIndex: 525461 entries, 0 to 525460\n",
      "Data columns (total 8 columns):\n",
      " #   Column       Non-Null Count   Dtype         \n",
      "---  ------       --------------   -----         \n",
      " 0   Invoice      525461 non-null  object        \n",
      " 1   StockCode    525461 non-null  object        \n",
      " 2   Description  522533 non-null  object        \n",
      " 3   Quantity     525461 non-null  int64         \n",
      " 4   InvoiceDate  525461 non-null  datetime64[ns]\n",
      " 5   Price        525461 non-null  float64       \n",
      " 6   Customer ID  417534 non-null  float64       \n",
      " 7   Country      525461 non-null  object        \n",
      "dtypes: datetime64[ns](1), float64(2), int64(1), object(4)\n",
      "memory usage: 32.1+ MB\n"
     ]
    }
   ],
   "source": [
    "C_items.info()"
   ]
  },
  {
   "cell_type": "code",
   "execution_count": 7,
   "id": "fdf2eee4",
   "metadata": {},
   "outputs": [
    {
     "name": "stdout",
     "output_type": "stream",
     "text": [
      "<class 'pandas.core.frame.DataFrame'>\n",
      "RangeIndex: 541910 entries, 0 to 541909\n",
      "Data columns (total 8 columns):\n",
      " #   Column       Non-Null Count   Dtype         \n",
      "---  ------       --------------   -----         \n",
      " 0   Invoice      541910 non-null  object        \n",
      " 1   StockCode    541910 non-null  object        \n",
      " 2   Description  540456 non-null  object        \n",
      " 3   Quantity     541910 non-null  int64         \n",
      " 4   InvoiceDate  541910 non-null  datetime64[ns]\n",
      " 5   Price        541910 non-null  float64       \n",
      " 6   Customer ID  406830 non-null  float64       \n",
      " 7   Country      541910 non-null  object        \n",
      "dtypes: datetime64[ns](1), float64(2), int64(1), object(4)\n",
      "memory usage: 33.1+ MB\n"
     ]
    }
   ],
   "source": [
    "C_items1.info()"
   ]
  },
  {
   "cell_type": "markdown",
   "id": "73d2d452",
   "metadata": {},
   "source": [
    "<h3><span style=\"color:green\">\n",
    "Data Preparation\n",
    "</span></h3> "
   ]
  },
  {
   "cell_type": "markdown",
   "id": "40c06fca",
   "metadata": {},
   "source": [
    "### Table of Contents\n",
    "\n",
    "   <h4>  a. Data Import.<br><br>\n",
    "         b. Data Exploration and Cleaning:<br><br>\n",
    "               1. Checking null values<br><br>\n",
    "               2. Duplicate values<br><br>\n",
    "               3. Cleaning records with zero Price <br><br>\n",
    "               4. Removing cancelled purchases.<br><br>\n",
    "    "
   ]
  },
  {
   "cell_type": "code",
   "execution_count": 8,
   "id": "447f38e1",
   "metadata": {},
   "outputs": [
    {
     "data": {
      "text/plain": [
       "Invoice             0\n",
       "StockCode           0\n",
       "Description      2928\n",
       "Quantity            0\n",
       "InvoiceDate         0\n",
       "Price               0\n",
       "Customer ID    107927\n",
       "Country             0\n",
       "dtype: int64"
      ]
     },
     "execution_count": 8,
     "metadata": {},
     "output_type": "execute_result"
    }
   ],
   "source": [
    "# Check for missing values in each column\n",
    "C_items.isnull().sum()"
   ]
  },
  {
   "cell_type": "code",
   "execution_count": 9,
   "id": "3b19a798",
   "metadata": {},
   "outputs": [
    {
     "data": {
      "text/html": [
       "<div>\n",
       "<style scoped>\n",
       "    .dataframe tbody tr th:only-of-type {\n",
       "        vertical-align: middle;\n",
       "    }\n",
       "\n",
       "    .dataframe tbody tr th {\n",
       "        vertical-align: top;\n",
       "    }\n",
       "\n",
       "    .dataframe thead th {\n",
       "        text-align: right;\n",
       "    }\n",
       "</style>\n",
       "<table border=\"1\" class=\"dataframe\">\n",
       "  <thead>\n",
       "    <tr style=\"text-align: right;\">\n",
       "      <th></th>\n",
       "      <th>Invoice</th>\n",
       "      <th>StockCode</th>\n",
       "      <th>Description</th>\n",
       "      <th>Quantity</th>\n",
       "      <th>InvoiceDate</th>\n",
       "      <th>Price</th>\n",
       "      <th>Customer ID</th>\n",
       "      <th>Country</th>\n",
       "    </tr>\n",
       "  </thead>\n",
       "  <tbody>\n",
       "    <tr>\n",
       "      <th>371</th>\n",
       "      <td>489517</td>\n",
       "      <td>21912</td>\n",
       "      <td>VINTAGE SNAKES &amp; LADDERS</td>\n",
       "      <td>1</td>\n",
       "      <td>2009-12-01 11:34:00</td>\n",
       "      <td>3.75</td>\n",
       "      <td>16329.0</td>\n",
       "      <td>United Kingdom</td>\n",
       "    </tr>\n",
       "    <tr>\n",
       "      <th>383</th>\n",
       "      <td>489517</td>\n",
       "      <td>22130</td>\n",
       "      <td>PARTY CONE CHRISTMAS DECORATION</td>\n",
       "      <td>6</td>\n",
       "      <td>2009-12-01 11:34:00</td>\n",
       "      <td>0.85</td>\n",
       "      <td>16329.0</td>\n",
       "      <td>United Kingdom</td>\n",
       "    </tr>\n",
       "    <tr>\n",
       "      <th>384</th>\n",
       "      <td>489517</td>\n",
       "      <td>22319</td>\n",
       "      <td>HAIRCLIPS FORTIES FABRIC ASSORTED</td>\n",
       "      <td>12</td>\n",
       "      <td>2009-12-01 11:34:00</td>\n",
       "      <td>0.65</td>\n",
       "      <td>16329.0</td>\n",
       "      <td>United Kingdom</td>\n",
       "    </tr>\n",
       "    <tr>\n",
       "      <th>385</th>\n",
       "      <td>489517</td>\n",
       "      <td>21913</td>\n",
       "      <td>VINTAGE SEASIDE JIGSAW PUZZLES</td>\n",
       "      <td>1</td>\n",
       "      <td>2009-12-01 11:34:00</td>\n",
       "      <td>3.75</td>\n",
       "      <td>16329.0</td>\n",
       "      <td>United Kingdom</td>\n",
       "    </tr>\n",
       "    <tr>\n",
       "      <th>386</th>\n",
       "      <td>489517</td>\n",
       "      <td>21821</td>\n",
       "      <td>GLITTER STAR GARLAND WITH BELLS</td>\n",
       "      <td>1</td>\n",
       "      <td>2009-12-01 11:34:00</td>\n",
       "      <td>3.75</td>\n",
       "      <td>16329.0</td>\n",
       "      <td>United Kingdom</td>\n",
       "    </tr>\n",
       "    <tr>\n",
       "      <th>...</th>\n",
       "      <td>...</td>\n",
       "      <td>...</td>\n",
       "      <td>...</td>\n",
       "      <td>...</td>\n",
       "      <td>...</td>\n",
       "      <td>...</td>\n",
       "      <td>...</td>\n",
       "      <td>...</td>\n",
       "    </tr>\n",
       "    <tr>\n",
       "      <th>523258</th>\n",
       "      <td>538035</td>\n",
       "      <td>20728</td>\n",
       "      <td>LUNCH BAG CARS BLUE</td>\n",
       "      <td>3</td>\n",
       "      <td>2010-12-09 13:03:00</td>\n",
       "      <td>1.65</td>\n",
       "      <td>16065.0</td>\n",
       "      <td>United Kingdom</td>\n",
       "    </tr>\n",
       "    <tr>\n",
       "      <th>523356</th>\n",
       "      <td>538051</td>\n",
       "      <td>22659</td>\n",
       "      <td>LUNCH BOX I LOVE LONDON</td>\n",
       "      <td>2</td>\n",
       "      <td>2010-12-09 13:24:00</td>\n",
       "      <td>1.95</td>\n",
       "      <td>18041.0</td>\n",
       "      <td>United Kingdom</td>\n",
       "    </tr>\n",
       "    <tr>\n",
       "      <th>525170</th>\n",
       "      <td>538155</td>\n",
       "      <td>21907</td>\n",
       "      <td>I'M ON HOLIDAY METAL SIGN</td>\n",
       "      <td>1</td>\n",
       "      <td>2010-12-09 16:52:00</td>\n",
       "      <td>2.10</td>\n",
       "      <td>16907.0</td>\n",
       "      <td>United Kingdom</td>\n",
       "    </tr>\n",
       "    <tr>\n",
       "      <th>525293</th>\n",
       "      <td>538166</td>\n",
       "      <td>21915</td>\n",
       "      <td>RED  HARMONICA IN BOX</td>\n",
       "      <td>5</td>\n",
       "      <td>2010-12-09 18:09:00</td>\n",
       "      <td>1.25</td>\n",
       "      <td>17965.0</td>\n",
       "      <td>United Kingdom</td>\n",
       "    </tr>\n",
       "    <tr>\n",
       "      <th>525340</th>\n",
       "      <td>538168</td>\n",
       "      <td>22739</td>\n",
       "      <td>RIBBON REEL CHRISTMAS SOCK BAUBLE</td>\n",
       "      <td>5</td>\n",
       "      <td>2010-12-09 19:23:00</td>\n",
       "      <td>1.65</td>\n",
       "      <td>14702.0</td>\n",
       "      <td>United Kingdom</td>\n",
       "    </tr>\n",
       "  </tbody>\n",
       "</table>\n",
       "<p>6865 rows × 8 columns</p>\n",
       "</div>"
      ],
      "text/plain": [
       "       Invoice StockCode                        Description  Quantity  \\\n",
       "371     489517     21912           VINTAGE SNAKES & LADDERS         1   \n",
       "383     489517     22130   PARTY CONE CHRISTMAS DECORATION          6   \n",
       "384     489517     22319  HAIRCLIPS FORTIES FABRIC ASSORTED        12   \n",
       "385     489517     21913     VINTAGE SEASIDE JIGSAW PUZZLES         1   \n",
       "386     489517     21821   GLITTER STAR GARLAND WITH BELLS          1   \n",
       "...        ...       ...                                ...       ...   \n",
       "523258  538035     20728                LUNCH BAG CARS BLUE         3   \n",
       "523356  538051     22659            LUNCH BOX I LOVE LONDON         2   \n",
       "525170  538155     21907          I'M ON HOLIDAY METAL SIGN         1   \n",
       "525293  538166     21915             RED  HARMONICA IN BOX          5   \n",
       "525340  538168     22739  RIBBON REEL CHRISTMAS SOCK BAUBLE         5   \n",
       "\n",
       "               InvoiceDate  Price  Customer ID         Country  \n",
       "371    2009-12-01 11:34:00   3.75      16329.0  United Kingdom  \n",
       "383    2009-12-01 11:34:00   0.85      16329.0  United Kingdom  \n",
       "384    2009-12-01 11:34:00   0.65      16329.0  United Kingdom  \n",
       "385    2009-12-01 11:34:00   3.75      16329.0  United Kingdom  \n",
       "386    2009-12-01 11:34:00   3.75      16329.0  United Kingdom  \n",
       "...                    ...    ...          ...             ...  \n",
       "523258 2010-12-09 13:03:00   1.65      16065.0  United Kingdom  \n",
       "523356 2010-12-09 13:24:00   1.95      18041.0  United Kingdom  \n",
       "525170 2010-12-09 16:52:00   2.10      16907.0  United Kingdom  \n",
       "525293 2010-12-09 18:09:00   1.25      17965.0  United Kingdom  \n",
       "525340 2010-12-09 19:23:00   1.65      14702.0  United Kingdom  \n",
       "\n",
       "[6865 rows x 8 columns]"
      ]
     },
     "execution_count": 9,
     "metadata": {},
     "output_type": "execute_result"
    }
   ],
   "source": [
    "# Check for Duplicate Values in each column\n",
    "C_items[C_items.duplicated()] "
   ]
  },
  {
   "cell_type": "code",
   "execution_count": 49,
   "id": "c5c633ef",
   "metadata": {},
   "outputs": [
    {
     "data": {
      "text/html": [
       "<div>\n",
       "<style scoped>\n",
       "    .dataframe tbody tr th:only-of-type {\n",
       "        vertical-align: middle;\n",
       "    }\n",
       "\n",
       "    .dataframe tbody tr th {\n",
       "        vertical-align: top;\n",
       "    }\n",
       "\n",
       "    .dataframe thead th {\n",
       "        text-align: right;\n",
       "    }\n",
       "</style>\n",
       "<table border=\"1\" class=\"dataframe\">\n",
       "  <thead>\n",
       "    <tr style=\"text-align: right;\">\n",
       "      <th></th>\n",
       "      <th>Invoice</th>\n",
       "      <th>StockCode</th>\n",
       "      <th>Description</th>\n",
       "      <th>Quantity</th>\n",
       "      <th>InvoiceDate</th>\n",
       "      <th>Price</th>\n",
       "      <th>Customer ID</th>\n",
       "      <th>Country</th>\n",
       "    </tr>\n",
       "  </thead>\n",
       "  <tbody>\n",
       "    <tr>\n",
       "      <th>178</th>\n",
       "      <td>C489449</td>\n",
       "      <td>22087</td>\n",
       "      <td>PAPER BUNTING WHITE LACE</td>\n",
       "      <td>-12</td>\n",
       "      <td>2009-12-01 10:33:00</td>\n",
       "      <td>2.95</td>\n",
       "      <td>16321.0</td>\n",
       "      <td>Australia</td>\n",
       "    </tr>\n",
       "    <tr>\n",
       "      <th>179</th>\n",
       "      <td>C489449</td>\n",
       "      <td>85206A</td>\n",
       "      <td>CREAM FELT EASTER EGG BASKET</td>\n",
       "      <td>-6</td>\n",
       "      <td>2009-12-01 10:33:00</td>\n",
       "      <td>1.65</td>\n",
       "      <td>16321.0</td>\n",
       "      <td>Australia</td>\n",
       "    </tr>\n",
       "    <tr>\n",
       "      <th>180</th>\n",
       "      <td>C489449</td>\n",
       "      <td>21895</td>\n",
       "      <td>POTTING SHED SOW 'N' GROW SET</td>\n",
       "      <td>-4</td>\n",
       "      <td>2009-12-01 10:33:00</td>\n",
       "      <td>4.25</td>\n",
       "      <td>16321.0</td>\n",
       "      <td>Australia</td>\n",
       "    </tr>\n",
       "    <tr>\n",
       "      <th>181</th>\n",
       "      <td>C489449</td>\n",
       "      <td>21896</td>\n",
       "      <td>POTTING SHED TWINE</td>\n",
       "      <td>-6</td>\n",
       "      <td>2009-12-01 10:33:00</td>\n",
       "      <td>2.10</td>\n",
       "      <td>16321.0</td>\n",
       "      <td>Australia</td>\n",
       "    </tr>\n",
       "    <tr>\n",
       "      <th>182</th>\n",
       "      <td>C489449</td>\n",
       "      <td>22083</td>\n",
       "      <td>PAPER CHAIN KIT RETRO SPOT</td>\n",
       "      <td>-12</td>\n",
       "      <td>2009-12-01 10:33:00</td>\n",
       "      <td>2.95</td>\n",
       "      <td>16321.0</td>\n",
       "      <td>Australia</td>\n",
       "    </tr>\n",
       "  </tbody>\n",
       "</table>\n",
       "</div>"
      ],
      "text/plain": [
       "     Invoice StockCode                    Description  Quantity  \\\n",
       "178  C489449     22087       PAPER BUNTING WHITE LACE       -12   \n",
       "179  C489449    85206A   CREAM FELT EASTER EGG BASKET        -6   \n",
       "180  C489449     21895  POTTING SHED SOW 'N' GROW SET        -4   \n",
       "181  C489449     21896             POTTING SHED TWINE        -6   \n",
       "182  C489449     22083     PAPER CHAIN KIT RETRO SPOT       -12   \n",
       "\n",
       "            InvoiceDate  Price  Customer ID    Country  \n",
       "178 2009-12-01 10:33:00   2.95      16321.0  Australia  \n",
       "179 2009-12-01 10:33:00   1.65      16321.0  Australia  \n",
       "180 2009-12-01 10:33:00   4.25      16321.0  Australia  \n",
       "181 2009-12-01 10:33:00   2.10      16321.0  Australia  \n",
       "182 2009-12-01 10:33:00   2.95      16321.0  Australia  "
      ]
     },
     "execution_count": 49,
     "metadata": {},
     "output_type": "execute_result"
    }
   ],
   "source": [
    "# Canceled invoices start with the letter C. \n",
    "C_items['Invoice'] = C_items['Invoice'].astype(str)\n",
    "df_refunded = C_items[C_items['Invoice'].str.contains('C')]\n",
    "\n",
    "df_refunded.head()"
   ]
  },
  {
   "cell_type": "code",
   "execution_count": 53,
   "id": "90102796",
   "metadata": {},
   "outputs": [
    {
     "data": {
      "text/plain": [
       "(9816, 8)"
      ]
     },
     "execution_count": 53,
     "metadata": {},
     "output_type": "execute_result"
    }
   ],
   "source": [
    "# Canceled invoices start with the letter C. \n",
    "# The reason why the Quantity value is negative is that these refunded invoices are the sum of the refunded charges.\n",
    "\n",
    "df_refunded.shape"
   ]
  },
  {
   "cell_type": "code",
   "execution_count": 54,
   "id": "103b793f",
   "metadata": {},
   "outputs": [
    {
     "data": {
      "text/plain": [
       "(31, 8)"
      ]
     },
     "execution_count": 54,
     "metadata": {},
     "output_type": "execute_result"
    }
   ],
   "source": [
    "# Analyze the products with a sale price of 0 and remove these records as well.\n",
    "# Boolean indexing\n",
    "df_ZeroPrice = C_items[C_items['Price'] == 0]\n",
    "df_ZeroPrice.shape"
   ]
  },
  {
   "cell_type": "code",
   "execution_count": 10,
   "id": "4e7f4aff",
   "metadata": {},
   "outputs": [],
   "source": [
    "# Dropping duplicated rows\n",
    "C_items.drop_duplicates(inplace=True)"
   ]
  },
  {
   "cell_type": "code",
   "execution_count": 11,
   "id": "3d8e68c4",
   "metadata": {},
   "outputs": [],
   "source": [
    "#drop rows with missing CustomerID\n",
    "C_items.dropna(subset=['Customer ID'], inplace=True)"
   ]
  },
  {
   "cell_type": "code",
   "execution_count": 12,
   "id": "f57a7efc",
   "metadata": {},
   "outputs": [
    {
     "data": {
      "text/html": [
       "<div>\n",
       "<style scoped>\n",
       "    .dataframe tbody tr th:only-of-type {\n",
       "        vertical-align: middle;\n",
       "    }\n",
       "\n",
       "    .dataframe tbody tr th {\n",
       "        vertical-align: top;\n",
       "    }\n",
       "\n",
       "    .dataframe thead th {\n",
       "        text-align: right;\n",
       "    }\n",
       "</style>\n",
       "<table border=\"1\" class=\"dataframe\">\n",
       "  <thead>\n",
       "    <tr style=\"text-align: right;\">\n",
       "      <th></th>\n",
       "      <th>Invoice</th>\n",
       "      <th>StockCode</th>\n",
       "      <th>Description</th>\n",
       "      <th>Quantity</th>\n",
       "      <th>InvoiceDate</th>\n",
       "      <th>Price</th>\n",
       "      <th>Customer ID</th>\n",
       "      <th>Country</th>\n",
       "    </tr>\n",
       "  </thead>\n",
       "  <tbody>\n",
       "    <tr>\n",
       "      <th>0</th>\n",
       "      <td>489434</td>\n",
       "      <td>85048</td>\n",
       "      <td>15CM CHRISTMAS GLASS BALL 20 LIGHTS</td>\n",
       "      <td>12</td>\n",
       "      <td>2009-12-01 07:45:00</td>\n",
       "      <td>6.95</td>\n",
       "      <td>13085.0</td>\n",
       "      <td>United Kingdom</td>\n",
       "    </tr>\n",
       "    <tr>\n",
       "      <th>1</th>\n",
       "      <td>489434</td>\n",
       "      <td>79323P</td>\n",
       "      <td>PINK CHERRY LIGHTS</td>\n",
       "      <td>12</td>\n",
       "      <td>2009-12-01 07:45:00</td>\n",
       "      <td>6.75</td>\n",
       "      <td>13085.0</td>\n",
       "      <td>United Kingdom</td>\n",
       "    </tr>\n",
       "    <tr>\n",
       "      <th>2</th>\n",
       "      <td>489434</td>\n",
       "      <td>79323W</td>\n",
       "      <td>WHITE CHERRY LIGHTS</td>\n",
       "      <td>12</td>\n",
       "      <td>2009-12-01 07:45:00</td>\n",
       "      <td>6.75</td>\n",
       "      <td>13085.0</td>\n",
       "      <td>United Kingdom</td>\n",
       "    </tr>\n",
       "    <tr>\n",
       "      <th>3</th>\n",
       "      <td>489434</td>\n",
       "      <td>22041</td>\n",
       "      <td>RECORD FRAME 7\" SINGLE SIZE</td>\n",
       "      <td>48</td>\n",
       "      <td>2009-12-01 07:45:00</td>\n",
       "      <td>2.10</td>\n",
       "      <td>13085.0</td>\n",
       "      <td>United Kingdom</td>\n",
       "    </tr>\n",
       "    <tr>\n",
       "      <th>4</th>\n",
       "      <td>489434</td>\n",
       "      <td>21232</td>\n",
       "      <td>STRAWBERRY CERAMIC TRINKET BOX</td>\n",
       "      <td>24</td>\n",
       "      <td>2009-12-01 07:45:00</td>\n",
       "      <td>1.25</td>\n",
       "      <td>13085.0</td>\n",
       "      <td>United Kingdom</td>\n",
       "    </tr>\n",
       "  </tbody>\n",
       "</table>\n",
       "</div>"
      ],
      "text/plain": [
       "  Invoice StockCode                          Description  Quantity  \\\n",
       "0  489434     85048  15CM CHRISTMAS GLASS BALL 20 LIGHTS        12   \n",
       "1  489434    79323P                   PINK CHERRY LIGHTS        12   \n",
       "2  489434    79323W                  WHITE CHERRY LIGHTS        12   \n",
       "3  489434     22041         RECORD FRAME 7\" SINGLE SIZE         48   \n",
       "4  489434     21232       STRAWBERRY CERAMIC TRINKET BOX        24   \n",
       "\n",
       "          InvoiceDate  Price  Customer ID         Country  \n",
       "0 2009-12-01 07:45:00   6.95      13085.0  United Kingdom  \n",
       "1 2009-12-01 07:45:00   6.75      13085.0  United Kingdom  \n",
       "2 2009-12-01 07:45:00   6.75      13085.0  United Kingdom  \n",
       "3 2009-12-01 07:45:00   2.10      13085.0  United Kingdom  \n",
       "4 2009-12-01 07:45:00   1.25      13085.0  United Kingdom  "
      ]
     },
     "execution_count": 12,
     "metadata": {},
     "output_type": "execute_result"
    }
   ],
   "source": [
    "C_items.head()"
   ]
  },
  {
   "cell_type": "code",
   "execution_count": 13,
   "id": "121e6ced",
   "metadata": {},
   "outputs": [
    {
     "data": {
      "image/png": "[encoded data removed]",
      "text/plain": [
       "<Figure size 640x480 with 2 Axes>"
      ]
     },
     "metadata": {},
     "output_type": "display_data"
    }
   ],
   "source": [
    "# Visualize histograms\n",
    "C_items.hist(column=['Quantity', 'Price'])\n",
    "plt.show()"
   ]
  },
  {
   "cell_type": "code",
   "execution_count": 14,
   "id": "2e103c73",
   "metadata": {},
   "outputs": [
    {
     "name": "stdout",
     "output_type": "stream",
     "text": [
      "Number of negative values in the 'Price' column: 0\n"
     ]
    }
   ],
   "source": [
    "# Check for negative values in Price column\n",
    "\n",
    "negative_count = (C_items['Price'] < 0).sum()\n",
    "print(f\"Number of negative values in the 'Price' column: {negative_count}\")"
   ]
  },
  {
   "cell_type": "code",
   "execution_count": 15,
   "id": "1cdd6ac0",
   "metadata": {},
   "outputs": [
    {
     "name": "stdout",
     "output_type": "stream",
     "text": [
      "Number of negative values in the 'Quantity' column: 9816\n"
     ]
    }
   ],
   "source": [
    "# Check for negative values in Quantity column\n",
    "\n",
    "negative_count = (C_items['Quantity'] < 0).sum()\n",
    "print(f\"Number of negative values in the 'Quantity' column: {negative_count}\")"
   ]
  },
  {
   "cell_type": "code",
   "execution_count": 16,
   "id": "8549847e",
   "metadata": {},
   "outputs": [
    {
     "data": {
      "text/plain": [
       "(410763, 8)"
      ]
     },
     "execution_count": 16,
     "metadata": {},
     "output_type": "execute_result"
    }
   ],
   "source": [
    "C_items.shape"
   ]
  },
  {
   "cell_type": "code",
   "execution_count": 17,
   "id": "278f8976",
   "metadata": {},
   "outputs": [],
   "source": [
    "# Filter out rows with negative quantities\n",
    "df = C_items[C_items['Quantity'] >= 0]"
   ]
  },
  {
   "cell_type": "code",
   "execution_count": 18,
   "id": "019c75f3",
   "metadata": {},
   "outputs": [
    {
     "data": {
      "text/plain": [
       "(400947, 8)"
      ]
     },
     "execution_count": 18,
     "metadata": {},
     "output_type": "execute_result"
    }
   ],
   "source": [
    "df.shape"
   ]
  },
  {
   "cell_type": "code",
   "execution_count": null,
   "id": "73731539",
   "metadata": {},
   "outputs": [],
   "source": [
    "# Delete rows without customer ID. Because we will make an analysis over customers.\n",
    "# We also delete product information with empty rows under 1%. \n",
    "# We aim to get healthy results in product-based analysis. "
   ]
  },
  {
   "cell_type": "code",
   "execution_count": 47,
   "id": "f0c1a0cb",
   "metadata": {},
   "outputs": [
    {
     "data": {
      "text/html": [
       "<div>\n",
       "<style scoped>\n",
       "    .dataframe tbody tr th:only-of-type {\n",
       "        vertical-align: middle;\n",
       "    }\n",
       "\n",
       "    .dataframe tbody tr th {\n",
       "        vertical-align: top;\n",
       "    }\n",
       "\n",
       "    .dataframe thead th {\n",
       "        text-align: right;\n",
       "    }\n",
       "</style>\n",
       "<table border=\"1\" class=\"dataframe\">\n",
       "  <thead>\n",
       "    <tr style=\"text-align: right;\">\n",
       "      <th></th>\n",
       "      <th>count</th>\n",
       "      <th>mean</th>\n",
       "      <th>min</th>\n",
       "      <th>25%</th>\n",
       "      <th>50%</th>\n",
       "      <th>75%</th>\n",
       "      <th>max</th>\n",
       "      <th>std</th>\n",
       "    </tr>\n",
       "  </thead>\n",
       "  <tbody>\n",
       "    <tr>\n",
       "      <th>Quantity</th>\n",
       "      <td>400947.0</td>\n",
       "      <td>13.768523</td>\n",
       "      <td>1.0</td>\n",
       "      <td>2.0</td>\n",
       "      <td>5.0</td>\n",
       "      <td>12.0</td>\n",
       "      <td>19152.0</td>\n",
       "      <td>97.639816</td>\n",
       "    </tr>\n",
       "    <tr>\n",
       "      <th>InvoiceDate</th>\n",
       "      <td>400947</td>\n",
       "      <td>2010-07-01 04:56:11.466452992</td>\n",
       "      <td>2009-12-01 07:45:00</td>\n",
       "      <td>2010-03-26 13:13:00</td>\n",
       "      <td>2010-07-09 10:26:00</td>\n",
       "      <td>2010-10-14 13:57:00</td>\n",
       "      <td>2010-12-09 20:01:00</td>\n",
       "      <td>NaN</td>\n",
       "    </tr>\n",
       "    <tr>\n",
       "      <th>Price</th>\n",
       "      <td>400947.0</td>\n",
       "      <td>3.305571</td>\n",
       "      <td>0.0</td>\n",
       "      <td>1.25</td>\n",
       "      <td>1.95</td>\n",
       "      <td>3.75</td>\n",
       "      <td>10953.5</td>\n",
       "      <td>35.046376</td>\n",
       "    </tr>\n",
       "    <tr>\n",
       "      <th>Customer ID</th>\n",
       "      <td>400947.0</td>\n",
       "      <td>15361.454639</td>\n",
       "      <td>12346.0</td>\n",
       "      <td>13985.0</td>\n",
       "      <td>15311.0</td>\n",
       "      <td>16805.0</td>\n",
       "      <td>18287.0</td>\n",
       "      <td>1680.669487</td>\n",
       "    </tr>\n",
       "  </tbody>\n",
       "</table>\n",
       "</div>"
      ],
      "text/plain": [
       "                count                           mean                  min  \\\n",
       "Quantity     400947.0                      13.768523                  1.0   \n",
       "InvoiceDate    400947  2010-07-01 04:56:11.466452992  2009-12-01 07:45:00   \n",
       "Price        400947.0                       3.305571                  0.0   \n",
       "Customer ID  400947.0                   15361.454639              12346.0   \n",
       "\n",
       "                             25%                  50%                  75%  \\\n",
       "Quantity                     2.0                  5.0                 12.0   \n",
       "InvoiceDate  2010-03-26 13:13:00  2010-07-09 10:26:00  2010-10-14 13:57:00   \n",
       "Price                       1.25                 1.95                 3.75   \n",
       "Customer ID              13985.0              15311.0              16805.0   \n",
       "\n",
       "                             max          std  \n",
       "Quantity                 19152.0    97.639816  \n",
       "InvoiceDate  2010-12-09 20:01:00          NaN  \n",
       "Price                    10953.5    35.046376  \n",
       "Customer ID              18287.0  1680.669487  "
      ]
     },
     "execution_count": 47,
     "metadata": {},
     "output_type": "execute_result"
    }
   ],
   "source": [
    "\n",
    "df.describe().T"
   ]
  },
  {
   "cell_type": "code",
   "execution_count": 48,
   "id": "573d6c47",
   "metadata": {},
   "outputs": [
    {
     "name": "stderr",
     "output_type": "stream",
     "text": [
      "C:\\Users\\Imart\\AppData\\Local\\Temp\\ipykernel_2648\\3324908923.py:1: SettingWithCopyWarning: \n",
      "A value is trying to be set on a copy of a slice from a DataFrame.\n",
      "Try using .loc[row_indexer,col_indexer] = value instead\n",
      "\n",
      "See the caveats in the documentation: https://pandas.pydata.org/pandas-docs/stable/user_guide/indexing.html#returning-a-view-versus-a-copy\n",
      "  df['Invoice'] = df['Invoice'].astype(str)\n"
     ]
    },
    {
     "data": {
      "text/html": [
       "<div>\n",
       "<style scoped>\n",
       "    .dataframe tbody tr th:only-of-type {\n",
       "        vertical-align: middle;\n",
       "    }\n",
       "\n",
       "    .dataframe tbody tr th {\n",
       "        vertical-align: top;\n",
       "    }\n",
       "\n",
       "    .dataframe thead th {\n",
       "        text-align: right;\n",
       "    }\n",
       "</style>\n",
       "<table border=\"1\" class=\"dataframe\">\n",
       "  <thead>\n",
       "    <tr style=\"text-align: right;\">\n",
       "      <th></th>\n",
       "      <th>Invoice</th>\n",
       "      <th>StockCode</th>\n",
       "      <th>Description</th>\n",
       "      <th>Quantity</th>\n",
       "      <th>InvoiceDate</th>\n",
       "      <th>Price</th>\n",
       "      <th>Customer ID</th>\n",
       "      <th>Country</th>\n",
       "    </tr>\n",
       "  </thead>\n",
       "  <tbody>\n",
       "  </tbody>\n",
       "</table>\n",
       "</div>"
      ],
      "text/plain": [
       "Empty DataFrame\n",
       "Columns: [Invoice, StockCode, Description, Quantity, InvoiceDate, Price, Customer ID, Country]\n",
       "Index: []"
      ]
     },
     "execution_count": 48,
     "metadata": {},
     "output_type": "execute_result"
    }
   ],
   "source": [
    "df['Invoice'] = df['Invoice'].astype(str)\n",
    "df_refunded = df[df['Invoice'].str.contains('C')]\n",
    "\n",
    "df_refunded.head()"
   ]
  },
  {
   "cell_type": "code",
   "execution_count": 56,
   "id": "c57188c3",
   "metadata": {},
   "outputs": [
    {
     "data": {
      "text/plain": [
       "(31, 8)"
      ]
     },
     "execution_count": 56,
     "metadata": {},
     "output_type": "execute_result"
    }
   ],
   "source": [
    "df_ZeroPrice = df[df['Price'] == 0]\n",
    "df_ZeroPrice.shape"
   ]
  },
  {
   "cell_type": "code",
   "execution_count": 19,
   "id": "f5481927",
   "metadata": {},
   "outputs": [
    {
     "name": "stderr",
     "output_type": "stream",
     "text": [
      "C:\\Users\\Imart\\AppData\\Local\\Temp\\ipykernel_2648\\2774911872.py:1: SettingWithCopyWarning: \n",
      "A value is trying to be set on a copy of a slice from a DataFrame.\n",
      "Try using .loc[row_indexer,col_indexer] = value instead\n",
      "\n",
      "See the caveats in the documentation: https://pandas.pydata.org/pandas-docs/stable/user_guide/indexing.html#returning-a-view-versus-a-copy\n",
      "  df['StockCode'] = df['StockCode'].astype(str)\n",
      "C:\\Users\\Imart\\AppData\\Local\\Temp\\ipykernel_2648\\2774911872.py:3: SettingWithCopyWarning: \n",
      "A value is trying to be set on a copy of a slice from a DataFrame.\n",
      "Try using .loc[row_indexer,col_indexer] = value instead\n",
      "\n",
      "See the caveats in the documentation: https://pandas.pydata.org/pandas-docs/stable/user_guide/indexing.html#returning-a-view-versus-a-copy\n",
      "  df['StockCode'] = df['StockCode'].fillna('')\n"
     ]
    },
    {
     "name": "stdout",
     "output_type": "stream",
     "text": [
      "12\n"
     ]
    }
   ],
   "source": [
    "df['StockCode'] = df['StockCode'].astype(str)\n",
    "# Fill NaNs with empty strings\n",
    "df['StockCode'] = df['StockCode'].fillna('')\n",
    "\n",
    "# Calculate the maximum length of the strings in the StockCode column\n",
    "max_length = df['StockCode'].str.len().max()\n",
    "\n",
    "print(max_length)"
   ]
  },
  {
   "cell_type": "code",
   "execution_count": 20,
   "id": "541d266a",
   "metadata": {},
   "outputs": [
    {
     "name": "stderr",
     "output_type": "stream",
     "text": [
      "C:\\Users\\Imart\\AppData\\Local\\Temp\\ipykernel_2648\\1118984402.py:1: SettingWithCopyWarning: \n",
      "A value is trying to be set on a copy of a slice from a DataFrame.\n",
      "Try using .loc[row_indexer,col_indexer] = value instead\n",
      "\n",
      "See the caveats in the documentation: https://pandas.pydata.org/pandas-docs/stable/user_guide/indexing.html#returning-a-view-versus-a-copy\n",
      "  df['Invoice'] = df['Invoice'].astype(str)\n",
      "C:\\Users\\Imart\\AppData\\Local\\Temp\\ipykernel_2648\\1118984402.py:3: SettingWithCopyWarning: \n",
      "A value is trying to be set on a copy of a slice from a DataFrame.\n",
      "Try using .loc[row_indexer,col_indexer] = value instead\n",
      "\n",
      "See the caveats in the documentation: https://pandas.pydata.org/pandas-docs/stable/user_guide/indexing.html#returning-a-view-versus-a-copy\n",
      "  df['Invoice'] = df['Invoice'].fillna('')\n"
     ]
    },
    {
     "name": "stdout",
     "output_type": "stream",
     "text": [
      "6\n"
     ]
    }
   ],
   "source": [
    "df['Invoice'] = df['Invoice'].astype(str)\n",
    "# Fill NaNs with empty strings\n",
    "df['Invoice'] = df['Invoice'].fillna('')\n",
    "\n",
    "# Calculate the maximum length of the strings in the StockCode column\n",
    "max_length = df['Invoice'].str.len().max()\n",
    "\n",
    "print(max_length)"
   ]
  },
  {
   "cell_type": "code",
   "execution_count": 21,
   "id": "4160517f",
   "metadata": {},
   "outputs": [
    {
     "data": {
      "text/plain": [
       "35"
      ]
     },
     "execution_count": 21,
     "metadata": {},
     "output_type": "execute_result"
    }
   ],
   "source": [
    "max(df.Description.dropna().str.len())"
   ]
  },
  {
   "cell_type": "code",
   "execution_count": 22,
   "id": "85364fb3",
   "metadata": {},
   "outputs": [
    {
     "data": {
      "text/plain": [
       "20"
      ]
     },
     "execution_count": 22,
     "metadata": {},
     "output_type": "execute_result"
    }
   ],
   "source": [
    "max(df.Country.dropna().str.len())"
   ]
  },
  {
   "cell_type": "code",
   "execution_count": 23,
   "id": "bd780ff6",
   "metadata": {},
   "outputs": [
    {
     "data": {
      "text/plain": [
       "Invoice             0\n",
       "StockCode           0\n",
       "Description      1454\n",
       "Quantity            0\n",
       "InvoiceDate         0\n",
       "Price               0\n",
       "Customer ID    135080\n",
       "Country             0\n",
       "dtype: int64"
      ]
     },
     "execution_count": 23,
     "metadata": {},
     "output_type": "execute_result"
    }
   ],
   "source": [
    "# Check for missing values in each column\n",
    "C_items1.isnull().sum()"
   ]
  },
  {
   "cell_type": "code",
   "execution_count": 25,
   "id": "2f84e087",
   "metadata": {},
   "outputs": [
    {
     "data": {
      "text/html": [
       "<div>\n",
       "<style scoped>\n",
       "    .dataframe tbody tr th:only-of-type {\n",
       "        vertical-align: middle;\n",
       "    }\n",
       "\n",
       "    .dataframe tbody tr th {\n",
       "        vertical-align: top;\n",
       "    }\n",
       "\n",
       "    .dataframe thead th {\n",
       "        text-align: right;\n",
       "    }\n",
       "</style>\n",
       "<table border=\"1\" class=\"dataframe\">\n",
       "  <thead>\n",
       "    <tr style=\"text-align: right;\">\n",
       "      <th></th>\n",
       "      <th>Invoice</th>\n",
       "      <th>StockCode</th>\n",
       "      <th>Description</th>\n",
       "      <th>Quantity</th>\n",
       "      <th>InvoiceDate</th>\n",
       "      <th>Price</th>\n",
       "      <th>Customer ID</th>\n",
       "      <th>Country</th>\n",
       "    </tr>\n",
       "  </thead>\n",
       "  <tbody>\n",
       "    <tr>\n",
       "      <th>517</th>\n",
       "      <td>536409</td>\n",
       "      <td>21866</td>\n",
       "      <td>UNION JACK FLAG LUGGAGE TAG</td>\n",
       "      <td>1</td>\n",
       "      <td>2010-12-01 11:45:00</td>\n",
       "      <td>1.25</td>\n",
       "      <td>17908.0</td>\n",
       "      <td>United Kingdom</td>\n",
       "    </tr>\n",
       "    <tr>\n",
       "      <th>527</th>\n",
       "      <td>536409</td>\n",
       "      <td>22866</td>\n",
       "      <td>HAND WARMER SCOTTY DOG DESIGN</td>\n",
       "      <td>1</td>\n",
       "      <td>2010-12-01 11:45:00</td>\n",
       "      <td>2.10</td>\n",
       "      <td>17908.0</td>\n",
       "      <td>United Kingdom</td>\n",
       "    </tr>\n",
       "    <tr>\n",
       "      <th>537</th>\n",
       "      <td>536409</td>\n",
       "      <td>22900</td>\n",
       "      <td>SET 2 TEA TOWELS I LOVE LONDON</td>\n",
       "      <td>1</td>\n",
       "      <td>2010-12-01 11:45:00</td>\n",
       "      <td>2.95</td>\n",
       "      <td>17908.0</td>\n",
       "      <td>United Kingdom</td>\n",
       "    </tr>\n",
       "    <tr>\n",
       "      <th>539</th>\n",
       "      <td>536409</td>\n",
       "      <td>22111</td>\n",
       "      <td>SCOTTIE DOG HOT WATER BOTTLE</td>\n",
       "      <td>1</td>\n",
       "      <td>2010-12-01 11:45:00</td>\n",
       "      <td>4.95</td>\n",
       "      <td>17908.0</td>\n",
       "      <td>United Kingdom</td>\n",
       "    </tr>\n",
       "    <tr>\n",
       "      <th>555</th>\n",
       "      <td>536412</td>\n",
       "      <td>22327</td>\n",
       "      <td>ROUND SNACK BOXES SET OF 4 SKULLS</td>\n",
       "      <td>1</td>\n",
       "      <td>2010-12-01 11:49:00</td>\n",
       "      <td>2.95</td>\n",
       "      <td>17920.0</td>\n",
       "      <td>United Kingdom</td>\n",
       "    </tr>\n",
       "    <tr>\n",
       "      <th>...</th>\n",
       "      <td>...</td>\n",
       "      <td>...</td>\n",
       "      <td>...</td>\n",
       "      <td>...</td>\n",
       "      <td>...</td>\n",
       "      <td>...</td>\n",
       "      <td>...</td>\n",
       "      <td>...</td>\n",
       "    </tr>\n",
       "    <tr>\n",
       "      <th>541675</th>\n",
       "      <td>581538</td>\n",
       "      <td>22068</td>\n",
       "      <td>BLACK PIRATE TREASURE CHEST</td>\n",
       "      <td>1</td>\n",
       "      <td>2011-12-09 11:34:00</td>\n",
       "      <td>0.39</td>\n",
       "      <td>14446.0</td>\n",
       "      <td>United Kingdom</td>\n",
       "    </tr>\n",
       "    <tr>\n",
       "      <th>541689</th>\n",
       "      <td>581538</td>\n",
       "      <td>23318</td>\n",
       "      <td>BOX OF 6 MINI VINTAGE CRACKERS</td>\n",
       "      <td>1</td>\n",
       "      <td>2011-12-09 11:34:00</td>\n",
       "      <td>2.49</td>\n",
       "      <td>14446.0</td>\n",
       "      <td>United Kingdom</td>\n",
       "    </tr>\n",
       "    <tr>\n",
       "      <th>541692</th>\n",
       "      <td>581538</td>\n",
       "      <td>22992</td>\n",
       "      <td>REVOLVER WOODEN RULER</td>\n",
       "      <td>1</td>\n",
       "      <td>2011-12-09 11:34:00</td>\n",
       "      <td>1.95</td>\n",
       "      <td>14446.0</td>\n",
       "      <td>United Kingdom</td>\n",
       "    </tr>\n",
       "    <tr>\n",
       "      <th>541699</th>\n",
       "      <td>581538</td>\n",
       "      <td>22694</td>\n",
       "      <td>WICKER STAR</td>\n",
       "      <td>1</td>\n",
       "      <td>2011-12-09 11:34:00</td>\n",
       "      <td>2.10</td>\n",
       "      <td>14446.0</td>\n",
       "      <td>United Kingdom</td>\n",
       "    </tr>\n",
       "    <tr>\n",
       "      <th>541701</th>\n",
       "      <td>581538</td>\n",
       "      <td>23343</td>\n",
       "      <td>JUMBO BAG VINTAGE CHRISTMAS</td>\n",
       "      <td>1</td>\n",
       "      <td>2011-12-09 11:34:00</td>\n",
       "      <td>2.08</td>\n",
       "      <td>14446.0</td>\n",
       "      <td>United Kingdom</td>\n",
       "    </tr>\n",
       "  </tbody>\n",
       "</table>\n",
       "<p>5268 rows × 8 columns</p>\n",
       "</div>"
      ],
      "text/plain": [
       "       Invoice StockCode                        Description  Quantity  \\\n",
       "517     536409     21866        UNION JACK FLAG LUGGAGE TAG         1   \n",
       "527     536409     22866      HAND WARMER SCOTTY DOG DESIGN         1   \n",
       "537     536409     22900    SET 2 TEA TOWELS I LOVE LONDON          1   \n",
       "539     536409     22111       SCOTTIE DOG HOT WATER BOTTLE         1   \n",
       "555     536412     22327  ROUND SNACK BOXES SET OF 4 SKULLS         1   \n",
       "...        ...       ...                                ...       ...   \n",
       "541675  581538     22068        BLACK PIRATE TREASURE CHEST         1   \n",
       "541689  581538     23318     BOX OF 6 MINI VINTAGE CRACKERS         1   \n",
       "541692  581538     22992             REVOLVER WOODEN RULER          1   \n",
       "541699  581538     22694                       WICKER STAR          1   \n",
       "541701  581538     23343       JUMBO BAG VINTAGE CHRISTMAS          1   \n",
       "\n",
       "               InvoiceDate  Price  Customer ID         Country  \n",
       "517    2010-12-01 11:45:00   1.25      17908.0  United Kingdom  \n",
       "527    2010-12-01 11:45:00   2.10      17908.0  United Kingdom  \n",
       "537    2010-12-01 11:45:00   2.95      17908.0  United Kingdom  \n",
       "539    2010-12-01 11:45:00   4.95      17908.0  United Kingdom  \n",
       "555    2010-12-01 11:49:00   2.95      17920.0  United Kingdom  \n",
       "...                    ...    ...          ...             ...  \n",
       "541675 2011-12-09 11:34:00   0.39      14446.0  United Kingdom  \n",
       "541689 2011-12-09 11:34:00   2.49      14446.0  United Kingdom  \n",
       "541692 2011-12-09 11:34:00   1.95      14446.0  United Kingdom  \n",
       "541699 2011-12-09 11:34:00   2.10      14446.0  United Kingdom  \n",
       "541701 2011-12-09 11:34:00   2.08      14446.0  United Kingdom  \n",
       "\n",
       "[5268 rows x 8 columns]"
      ]
     },
     "execution_count": 25,
     "metadata": {},
     "output_type": "execute_result"
    }
   ],
   "source": [
    "C_items1[C_items1.duplicated()] "
   ]
  },
  {
   "cell_type": "code",
   "execution_count": 26,
   "id": "defcff75",
   "metadata": {},
   "outputs": [],
   "source": [
    "# Dropping duplicated rows\n",
    "C_items1.drop_duplicates(inplace=True)"
   ]
  },
  {
   "cell_type": "code",
   "execution_count": 27,
   "id": "7151747b",
   "metadata": {},
   "outputs": [],
   "source": [
    "#drop rows with missing CustomerID\n",
    "C_items1.dropna(subset=['Customer ID'], inplace=True)"
   ]
  },
  {
   "cell_type": "code",
   "execution_count": 28,
   "id": "7911b439",
   "metadata": {},
   "outputs": [
    {
     "data": {
      "text/plain": [
       "(401605, 8)"
      ]
     },
     "execution_count": 28,
     "metadata": {},
     "output_type": "execute_result"
    }
   ],
   "source": [
    "C_items1.shape"
   ]
  },
  {
   "cell_type": "code",
   "execution_count": 30,
   "id": "20dfd783",
   "metadata": {},
   "outputs": [
    {
     "data": {
      "image/png": "[encoded data removed]",
      "text/plain": [
       "<Figure size 640x480 with 2 Axes>"
      ]
     },
     "metadata": {},
     "output_type": "display_data"
    }
   ],
   "source": [
    "# Visualize histograms\n",
    "C_items1.hist(column=['Quantity', 'Price'])\n",
    "plt.show()"
   ]
  },
  {
   "cell_type": "code",
   "execution_count": 31,
   "id": "0fcca1d4",
   "metadata": {},
   "outputs": [
    {
     "name": "stdout",
     "output_type": "stream",
     "text": [
      "Number of negative values in the 'Price' column: 0\n"
     ]
    }
   ],
   "source": [
    "negative_count = (C_items1['Price'] < 0).sum()\n",
    "print(f\"Number of negative values in the 'Price' column: {negative_count}\")"
   ]
  },
  {
   "cell_type": "code",
   "execution_count": 32,
   "id": "bfc4b44e",
   "metadata": {},
   "outputs": [
    {
     "name": "stdout",
     "output_type": "stream",
     "text": [
      "Number of negative values in the 'Quantity' column: 8872\n"
     ]
    }
   ],
   "source": [
    "negative_count = (C_items1['Quantity'] < 0).sum()\n",
    "print(f\"Number of negative values in the 'Quantity' column: {negative_count}\")"
   ]
  },
  {
   "cell_type": "code",
   "execution_count": 34,
   "id": "8dae18a8",
   "metadata": {},
   "outputs": [],
   "source": [
    "# Filter out rows with negative quantities\n",
    "df1 = C_items1[C_items1['Quantity'] >= 0]"
   ]
  },
  {
   "cell_type": "code",
   "execution_count": 35,
   "id": "69b480e9",
   "metadata": {},
   "outputs": [
    {
     "data": {
      "text/plain": [
       "(392733, 8)"
      ]
     },
     "execution_count": 35,
     "metadata": {},
     "output_type": "execute_result"
    }
   ],
   "source": [
    "df1.shape"
   ]
  },
  {
   "cell_type": "code",
   "execution_count": 57,
   "id": "f8bc73a1",
   "metadata": {},
   "outputs": [
    {
     "name": "stderr",
     "output_type": "stream",
     "text": [
      "C:\\Users\\Imart\\AppData\\Local\\Temp\\ipykernel_2648\\2548396305.py:1: SettingWithCopyWarning: \n",
      "A value is trying to be set on a copy of a slice from a DataFrame.\n",
      "Try using .loc[row_indexer,col_indexer] = value instead\n",
      "\n",
      "See the caveats in the documentation: https://pandas.pydata.org/pandas-docs/stable/user_guide/indexing.html#returning-a-view-versus-a-copy\n",
      "  df1['Invoice'] = df1['Invoice'].astype(str)\n"
     ]
    },
    {
     "data": {
      "text/html": [
       "<div>\n",
       "<style scoped>\n",
       "    .dataframe tbody tr th:only-of-type {\n",
       "        vertical-align: middle;\n",
       "    }\n",
       "\n",
       "    .dataframe tbody tr th {\n",
       "        vertical-align: top;\n",
       "    }\n",
       "\n",
       "    .dataframe thead th {\n",
       "        text-align: right;\n",
       "    }\n",
       "</style>\n",
       "<table border=\"1\" class=\"dataframe\">\n",
       "  <thead>\n",
       "    <tr style=\"text-align: right;\">\n",
       "      <th></th>\n",
       "      <th>Invoice</th>\n",
       "      <th>StockCode</th>\n",
       "      <th>Description</th>\n",
       "      <th>Quantity</th>\n",
       "      <th>InvoiceDate</th>\n",
       "      <th>Price</th>\n",
       "      <th>Customer ID</th>\n",
       "      <th>Country</th>\n",
       "    </tr>\n",
       "  </thead>\n",
       "  <tbody>\n",
       "  </tbody>\n",
       "</table>\n",
       "</div>"
      ],
      "text/plain": [
       "Empty DataFrame\n",
       "Columns: [Invoice, StockCode, Description, Quantity, InvoiceDate, Price, Customer ID, Country]\n",
       "Index: []"
      ]
     },
     "execution_count": 57,
     "metadata": {},
     "output_type": "execute_result"
    }
   ],
   "source": [
    "df1['Invoice'] = df1['Invoice'].astype(str)\n",
    "df_refunded = df1[df1['Invoice'].str.contains('C')]\n",
    "\n",
    "df_refunded.head()"
   ]
  },
  {
   "cell_type": "code",
   "execution_count": 58,
   "id": "44c530ca",
   "metadata": {},
   "outputs": [
    {
     "data": {
      "text/plain": [
       "(40, 8)"
      ]
     },
     "execution_count": 58,
     "metadata": {},
     "output_type": "execute_result"
    }
   ],
   "source": [
    "# Analyze the products with a sale price of 0 and remove these records as well.\n",
    "# Boolean indexing\n",
    "df_ZeroPrice = df1[df1['Price'] == 0]\n",
    "df_ZeroPrice.shape"
   ]
  },
  {
   "cell_type": "code",
   "execution_count": 36,
   "id": "ad24455f",
   "metadata": {},
   "outputs": [
    {
     "name": "stderr",
     "output_type": "stream",
     "text": [
      "C:\\Users\\Imart\\AppData\\Local\\Temp\\ipykernel_2648\\1816238351.py:1: SettingWithCopyWarning: \n",
      "A value is trying to be set on a copy of a slice from a DataFrame.\n",
      "Try using .loc[row_indexer,col_indexer] = value instead\n",
      "\n",
      "See the caveats in the documentation: https://pandas.pydata.org/pandas-docs/stable/user_guide/indexing.html#returning-a-view-versus-a-copy\n",
      "  df1['StockCode'] = df1['StockCode'].astype(str)\n",
      "C:\\Users\\Imart\\AppData\\Local\\Temp\\ipykernel_2648\\1816238351.py:3: SettingWithCopyWarning: \n",
      "A value is trying to be set on a copy of a slice from a DataFrame.\n",
      "Try using .loc[row_indexer,col_indexer] = value instead\n",
      "\n",
      "See the caveats in the documentation: https://pandas.pydata.org/pandas-docs/stable/user_guide/indexing.html#returning-a-view-versus-a-copy\n",
      "  df1['StockCode'] = df1['StockCode'].fillna('')\n"
     ]
    },
    {
     "name": "stdout",
     "output_type": "stream",
     "text": [
      "12\n"
     ]
    }
   ],
   "source": [
    "df1['StockCode'] = df1['StockCode'].astype(str)\n",
    "# Fill NaNs with empty strings\n",
    "df1['StockCode'] = df1['StockCode'].fillna('')\n",
    "\n",
    "# Calculate the maximum length of the strings in the StockCode column\n",
    "max_length = df1['StockCode'].str.len().max()\n",
    "\n",
    "print(max_length)"
   ]
  },
  {
   "cell_type": "code",
   "execution_count": 37,
   "id": "c37b1990",
   "metadata": {},
   "outputs": [
    {
     "name": "stderr",
     "output_type": "stream",
     "text": [
      "C:\\Users\\Imart\\AppData\\Local\\Temp\\ipykernel_2648\\902172372.py:1: SettingWithCopyWarning: \n",
      "A value is trying to be set on a copy of a slice from a DataFrame.\n",
      "Try using .loc[row_indexer,col_indexer] = value instead\n",
      "\n",
      "See the caveats in the documentation: https://pandas.pydata.org/pandas-docs/stable/user_guide/indexing.html#returning-a-view-versus-a-copy\n",
      "  df1['Invoice'] = df1['Invoice'].astype(str)\n",
      "C:\\Users\\Imart\\AppData\\Local\\Temp\\ipykernel_2648\\902172372.py:3: SettingWithCopyWarning: \n",
      "A value is trying to be set on a copy of a slice from a DataFrame.\n",
      "Try using .loc[row_indexer,col_indexer] = value instead\n",
      "\n",
      "See the caveats in the documentation: https://pandas.pydata.org/pandas-docs/stable/user_guide/indexing.html#returning-a-view-versus-a-copy\n",
      "  df1['Invoice'] = df1['Invoice'].fillna('')\n"
     ]
    },
    {
     "name": "stdout",
     "output_type": "stream",
     "text": [
      "6\n"
     ]
    }
   ],
   "source": [
    "df1['Invoice'] = df1['Invoice'].astype(str)\n",
    "# Fill NaNs with empty strings\n",
    "df1['Invoice'] = df1['Invoice'].fillna('')\n",
    "\n",
    "# Calculate the maximum length of the strings in the StockCode column\n",
    "max_length = df1['Invoice'].str.len().max()\n",
    "\n",
    "print(max_length)"
   ]
  },
  {
   "cell_type": "code",
   "execution_count": 38,
   "id": "5470a34d",
   "metadata": {},
   "outputs": [
    {
     "data": {
      "text/plain": [
       "35"
      ]
     },
     "execution_count": 38,
     "metadata": {},
     "output_type": "execute_result"
    }
   ],
   "source": [
    "max(df1.Description.dropna().str.len())"
   ]
  },
  {
   "cell_type": "code",
   "execution_count": 39,
   "id": "55e0ce10",
   "metadata": {},
   "outputs": [
    {
     "data": {
      "text/plain": [
       "20"
      ]
     },
     "execution_count": 39,
     "metadata": {},
     "output_type": "execute_result"
    }
   ],
   "source": [
    "max(df1.Country.dropna().str.len())"
   ]
  },
  {
   "cell_type": "code",
   "execution_count": 40,
   "id": "3a586929",
   "metadata": {},
   "outputs": [
    {
     "name": "stdout",
     "output_type": "stream",
     "text": [
      "Requirement already satisfied: sqlalchemy in c:\\users\\imart\\anaconda3\\lib\\site-packages (1.4.39)\n",
      "Requirement already satisfied: greenlet!=0.4.17 in c:\\users\\imart\\anaconda3\\lib\\site-packages (from sqlalchemy) (2.0.1)\n",
      "Note: you may need to restart the kernel to use updated packages.\n"
     ]
    }
   ],
   "source": [
    "pip install sqlalchemy"
   ]
  },
  {
   "cell_type": "code",
   "execution_count": 41,
   "id": "fd31f74c",
   "metadata": {},
   "outputs": [],
   "source": [
    "import sqlalchemy as sal"
   ]
  },
  {
   "cell_type": "code",
   "execution_count": 42,
   "id": "fd95002d",
   "metadata": {},
   "outputs": [],
   "source": [
    "engine = sal.create_engine('mssql://DESKTOP-SSGVBEG\\SQLEXPRESS/master?driver=ODBC+DRIVER+17+FOR+SQL+SERVER')\n",
    "conn=engine.connect()"
   ]
  },
  {
   "cell_type": "code",
   "execution_count": 43,
   "id": "247414c1",
   "metadata": {},
   "outputs": [
    {
     "data": {
      "text/plain": [
       "-1"
      ]
     },
     "execution_count": 43,
     "metadata": {},
     "output_type": "execute_result"
    }
   ],
   "source": [
    "#Load the data in sql server\n",
    "df.to_sql('df_order_2009_2010',con=conn,index=True,if_exists='replace')"
   ]
  },
  {
   "cell_type": "code",
   "execution_count": 44,
   "id": "1b9c781d",
   "metadata": {},
   "outputs": [
    {
     "data": {
      "text/plain": [
       "-1"
      ]
     },
     "execution_count": 44,
     "metadata": {},
     "output_type": "execute_result"
    }
   ],
   "source": [
    "#Load the data in sql server\n",
    "df1.to_sql('df_order_2010_2011',con=conn,index=True,if_exists='replace')"
   ]
  },
  {
   "cell_type": "code",
   "execution_count": 45,
   "id": "df3903a6",
   "metadata": {},
   "outputs": [
    {
     "data": {
      "text/plain": [
       "-1"
      ]
     },
     "execution_count": 45,
     "metadata": {},
     "output_type": "execute_result"
    }
   ],
   "source": [
    "df.to_sql('df_order_2009_2010',con=conn,index=False,if_exists='append')"
   ]
  },
  {
   "cell_type": "code",
   "execution_count": 46,
   "id": "9d9b6596",
   "metadata": {},
   "outputs": [
    {
     "data": {
      "text/plain": [
       "-1"
      ]
     },
     "execution_count": 46,
     "metadata": {},
     "output_type": "execute_result"
    }
   ],
   "source": [
    "df1.to_sql('df_order_2010_2011',con=conn,index=False,if_exists='append')"
   ]
  },
  {
   "cell_type": "code",
   "execution_count": null,
   "id": "145fcf90",
   "metadata": {},
   "outputs": [],
   "source": []
  }
 ],
 "metadata": {
  "kernelspec": {
   "display_name": "Python 3 (ipykernel)",
   "language": "python",
   "name": "python3"
  },
  "language_info": {
   "codemirror_mode": {
    "name": "ipython",
    "version": 3
   },
   "file_extension": ".py",
   "mimetype": "text/x-python",
   "name": "python",
   "nbconvert_exporter": "python",
   "pygments_lexer": "ipython3",
   "version": "3.11.5"
  }
 },
 "nbformat": 4,
 "nbformat_minor": 5
}
